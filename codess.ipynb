{
  "nbformat": 4,
  "nbformat_minor": 0,
  "metadata": {
    "colab": {
      "provenance": [],
      "authorship_tag": "ABX9TyNBMIrYBZrtqsdQ/oUfkkZC",
      "include_colab_link": true
    },
    "kernelspec": {
      "name": "python3",
      "display_name": "Python 3"
    },
    "language_info": {
      "name": "python"
    }
  },
  "cells": [
    {
      "cell_type": "markdown",
      "metadata": {
        "id": "view-in-github",
        "colab_type": "text"
      },
      "source": [
        "<a href=\"https://colab.research.google.com/github/soumyamegha/pyrthonapplication/blob/main/codess.ipynb\" target=\"_parent\"><img src=\"https://colab.research.google.com/assets/colab-badge.svg\" alt=\"Open In Colab\"/></a>"
      ]
    },
    {
      "cell_type": "code",
      "execution_count": null,
      "metadata": {
        "colab": {
          "base_uri": "https://localhost:8080/"
        },
        "id": "lCSSrqC-IRvN",
        "outputId": "3812b878-6c3d-4e12-a65b-269b448d4bcb"
      },
      "outputs": [
        {
          "output_type": "stream",
          "name": "stdout",
          "text": [
            "hello soumya\n"
          ]
        }
      ],
      "source": [
        "class myclass:\n",
        "  def __init__(self,name):\n",
        "     print(\"hello\",name)\n",
        "obj=myclass(\"soumya\")"
      ]
    },
    {
      "cell_type": "code",
      "source": [],
      "metadata": {
        "id": "UeYlQxkIsVMJ"
      },
      "execution_count": null,
      "outputs": []
    },
    {
      "cell_type": "code",
      "source": [
        "class student:\n",
        "  def __init__(self,roll,name):\n",
        "    self.name=\"soumya\"\n",
        "    self.roll=71\n",
        "    print(self.name,self.roll)\n",
        "obj=student(71,\"soumya\")"
      ],
      "metadata": {
        "colab": {
          "base_uri": "https://localhost:8080/"
        },
        "id": "m7Pg5oRjMhSP",
        "outputId": "665e80d9-9027-4137-8289-7c9c134b4e54"
      },
      "execution_count": null,
      "outputs": [
        {
          "output_type": "stream",
          "name": "stdout",
          "text": [
            "soumya 71\n"
          ]
        }
      ]
    },
    {
      "cell_type": "code",
      "source": [
        "class person:\n",
        "    def __init__(self):\n",
        "       print(\"bye...\")\n",
        "    def mymethod(self,num):\n",
        "       print(\"the cube of number is :\",num**3)\n",
        "obj_person=person()\n",
        "obj_person.mymethod(4)\n"
      ],
      "metadata": {
        "colab": {
          "base_uri": "https://localhost:8080/"
        },
        "id": "VKGoP2lFMhQN",
        "outputId": "2627c4ed-14e5-4222-9506-88f3abbd2238"
      },
      "execution_count": null,
      "outputs": [
        {
          "output_type": "stream",
          "name": "stdout",
          "text": [
            "bye...\n",
            "the cube of number is : 64\n"
          ]
        }
      ]
    },
    {
      "cell_type": "code",
      "source": [
        "class Animal:\n",
        "  def speak(self):\n",
        "    print(\"Animal Speaking\")\n",
        "class Dog(Animal):\n",
        "  def bark(self):\n",
        "    print(\"dog barking\")\n",
        "d=Dog()\n",
        "d.bark()\n",
        "d.speak()   "
      ],
      "metadata": {
        "colab": {
          "base_uri": "https://localhost:8080/"
        },
        "id": "0TfOO1L2OgDX",
        "outputId": "fca5d5dd-36c7-4aea-b6fe-009797433c28"
      },
      "execution_count": null,
      "outputs": [
        {
          "output_type": "stream",
          "name": "stdout",
          "text": [
            "dog barking\n",
            "Animal Speaking\n"
          ]
        }
      ]
    },
    {
      "cell_type": "markdown",
      "source": [
        "write a python program which base class contins addition of two no.s and derive class contain multiplication of same no\n",
        "\n"
      ],
      "metadata": {
        "id": "JkyaPePBsabq"
      }
    },
    {
      "cell_type": "code",
      "source": [
        "class base:\n",
        "  def ADD(self,a,b):\n",
        "   return a+b\n",
        "class derive(base):  \n",
        "  def MUL(self,a,b):\n",
        "    return a*b\n",
        "m=int(input('a = '))\n",
        "n=int(input('b = '))\n",
        "obj=derive()\n",
        "print(obj.ADD(m,n))    \n",
        "print(obj.MUL(m,n))"
      ],
      "metadata": {
        "id": "Z9X6AOFLsa77",
        "colab": {
          "base_uri": "https://localhost:8080/"
        },
        "outputId": "3ee1f7f4-df2c-4ad2-d879-9ef0a9aae998"
      },
      "execution_count": null,
      "outputs": [
        {
          "output_type": "stream",
          "name": "stdout",
          "text": [
            "a = 3\n",
            "b = 5\n",
            "8\n",
            "15\n"
          ]
        }
      ]
    },
    {
      "cell_type": "markdown",
      "source": [
        "write a python programm using multilevel inheritance to design a calculator which contains four derive class and one child class\n"
      ],
      "metadata": {
        "id": "pMP8tmBgwVCG"
      }
    },
    {
      "cell_type": "code",
      "source": [
        "class A:\n",
        "  def ADD(self,a,b):\n",
        "    return a+b\n",
        "class S(A):\n",
        "  def SUB(self,a,b):\n",
        "    return a-b    \n",
        "class M(S):\n",
        "  def MUL(self,a,b):\n",
        "    return a*b\n",
        "class D(M):\n",
        "  def DIV(self,a,b):\n",
        "    return a/b\n",
        "class E(D):\n",
        "  def REM(self,a,b):\n",
        "    return a%b\n",
        "m=int(input(' a = '))    \n",
        "n=int(input(' b = '))\n",
        "d=E()\n",
        "print(d.ADD(m,n))\n",
        "print(d.SUB(m,n))\n",
        "print(d.MUL(m,n))\n",
        "print(d.DIV(m,n))\n",
        "print(d.REM(m,n))"
      ],
      "metadata": {
        "id": "NYEXv33uxJzv",
        "colab": {
          "base_uri": "https://localhost:8080/"
        },
        "outputId": "a459be4d-0e0c-46b1-e633-1852a403ab20"
      },
      "execution_count": null,
      "outputs": [
        {
          "output_type": "stream",
          "name": "stdout",
          "text": [
            " a = 4\n",
            " b = 6\n",
            "10\n",
            "-2\n",
            "24\n",
            "0.6666666666666666\n",
            "4\n"
          ]
        }
      ]
    },
    {
      "cell_type": "code",
      "source": [
        "import numpy as np\n",
        "print(np.__version__)"
      ],
      "metadata": {
        "colab": {
          "base_uri": "https://localhost:8080/"
        },
        "id": "pvPDSbCO4idT",
        "outputId": "0b19f282-4d84-4609-ce8f-5659340202e5"
      },
      "execution_count": null,
      "outputs": [
        {
          "output_type": "stream",
          "name": "stdout",
          "text": [
            "1.22.4\n"
          ]
        }
      ]
    },
    {
      "cell_type": "code",
      "source": [
        "import numpy\n",
        "list=[10,20,30,40,50]\n",
        "arr=numpy.array(list)\n",
        "print(arr)"
      ],
      "metadata": {
        "colab": {
          "base_uri": "https://localhost:8080/"
        },
        "id": "-uGneH036G32",
        "outputId": "dfda7a56-1a96-4eac-97a1-087c626883c7"
      },
      "execution_count": null,
      "outputs": [
        {
          "output_type": "stream",
          "name": "stdout",
          "text": [
            "[10 20 30 40 50]\n"
          ]
        }
      ]
    },
    {
      "cell_type": "code",
      "source": [
        "import numpy as np\n",
        "list=[10,20,30,40,50]\n",
        "arr=np.array(list)\n",
        "print(arr)"
      ],
      "metadata": {
        "colab": {
          "base_uri": "https://localhost:8080/"
        },
        "id": "qE5vlB-C6ijd",
        "outputId": "6466c900-5237-4089-9544-05703bde344c"
      },
      "execution_count": null,
      "outputs": [
        {
          "output_type": "stream",
          "name": "stdout",
          "text": [
            "[10 20 30 40 50]\n"
          ]
        }
      ]
    },
    {
      "cell_type": "code",
      "source": [
        "import numpy as np\n",
        "list=[10,20,30,40,50]\n",
        "arr=np.array(list)\n",
        "print('Size:',arr.size)\n",
        "print('Datatype:',arr.dtype)\n",
        "print('Dimension:',arr.ndim)\n",
        "print('Shape:',arr.shape)"
      ],
      "metadata": {
        "colab": {
          "base_uri": "https://localhost:8080/"
        },
        "id": "RtOkfUJ17Bp8",
        "outputId": "45ac037f-73d3-473b-a50a-3f31a8a3e6d8"
      },
      "execution_count": null,
      "outputs": [
        {
          "output_type": "stream",
          "name": "stdout",
          "text": [
            "Size: 5\n",
            "Datatype: int64\n",
            "Dimension: 1\n",
            "Shape: (5,)\n"
          ]
        }
      ]
    },
    {
      "cell_type": "code",
      "source": [
        "import numpy as np\n",
        "list=[[10,20,30],[40,50,60]]\n",
        "arr=np.array(list)\n",
        "print(arr[1])"
      ],
      "metadata": {
        "colab": {
          "base_uri": "https://localhost:8080/"
        },
        "id": "n4sPn_bv8hP8",
        "outputId": "4567714a-5ef1-45f9-db35-e48a85e96d40"
      },
      "execution_count": null,
      "outputs": [
        {
          "output_type": "stream",
          "name": "stdout",
          "text": [
            "[40 50 60]\n"
          ]
        }
      ]
    },
    {
      "cell_type": "code",
      "source": [
        "import numpy as np\n",
        "list=[[10,20,30],[40,50,60]]\n",
        "arr=np.array(list)\n",
        "print(arr[1][1])"
      ],
      "metadata": {
        "colab": {
          "base_uri": "https://localhost:8080/"
        },
        "id": "lFZOlmh19HBS",
        "outputId": "ccdcb5a1-e8b6-4dac-af93-3a2b1062844a"
      },
      "execution_count": null,
      "outputs": [
        {
          "output_type": "stream",
          "name": "stdout",
          "text": [
            "50\n"
          ]
        }
      ]
    },
    {
      "cell_type": "code",
      "source": [
        "import numpy as np\n",
        "three_dimensional_list=[[[1,2,3],[4,5,6],[7,8,9]]]\n",
        "three_dimensional_arr=np.array(three_dimensional_list)\n",
        "print(\"3D array is: \",three_dimensional_arr)"
      ],
      "metadata": {
        "colab": {
          "base_uri": "https://localhost:8080/"
        },
        "id": "q5cQgDDr-U6q",
        "outputId": "91bf7922-48f5-417f-d7c5-a10d78a830b6"
      },
      "execution_count": null,
      "outputs": [
        {
          "output_type": "stream",
          "name": "stdout",
          "text": [
            "3D array is:  [[[1 2 3]\n",
            "  [4 5 6]\n",
            "  [7 8 9]]]\n"
          ]
        }
      ]
    },
    {
      "cell_type": "code",
      "source": [
        "import numpy as np\n",
        "list"
      ],
      "metadata": {
        "id": "aZ_t2lnc__Wn"
      },
      "execution_count": null,
      "outputs": []
    },
    {
      "cell_type": "code",
      "source": [
        "import numpy\n",
        "n=int(input('enter size:'))\n",
        "arr=numpy.ndarray(shape=(n),dtype=int)\n",
        "print('enter %d element:'%n)\n",
        "for i in range(n):\n",
        "  arr[i]=int(input())\n",
        "  print('array elements:',arr)\n",
        "   "
      ],
      "metadata": {
        "colab": {
          "base_uri": "https://localhost:8080/"
        },
        "id": "81yLk-7LaNNP",
        "outputId": "d8ee91e8-de98-4a6d-fc29-092fd0ab46e7"
      },
      "execution_count": 1,
      "outputs": [
        {
          "output_type": "stream",
          "name": "stdout",
          "text": [
            "enter size:2\n",
            "enter 2 element:\n",
            "11\n",
            "array elements: [             11 140503697997720]\n",
            "22\n",
            "array elements: [11 22]\n"
          ]
        }
      ]
    },
    {
      "cell_type": "code",
      "source": [
        "import numpy\n",
        "n = int (input('Enter Size:'))\n",
        "arr = numpy.ndarray(shape=(n),dtype=int)\n",
        "print('Enter %d element :'%n)\n",
        "def oddcount(a,o):\n",
        "  if a%2!=0:\n",
        "    o+=1\n",
        "  return o\n",
        "def evencount(a,e):\n",
        "  if a%2==0:\n",
        "    e+=1\n",
        "  return e\n",
        "o=0\n",
        "e=0\n",
        "for i in range(n):\n",
        "  arr[i]=int(input())\n",
        "  o=oddcount(arr[i],o)\n",
        "  e=evencount(arr[i],e)\n",
        "print('Array Elements :', arr)\n",
        "print(o)\n",
        "print(e)"
      ],
      "metadata": {
        "colab": {
          "base_uri": "https://localhost:8080/"
        },
        "id": "_I4HKNuVbWdo",
        "outputId": "8d25c4ea-87e4-4988-879c-8d2622d28d93"
      },
      "execution_count": 4,
      "outputs": [
        {
          "output_type": "stream",
          "name": "stdout",
          "text": [
            "Enter Size:2\n",
            "Enter 2 element :\n",
            "4\n",
            "5\n",
            "Array Elements : [4 5]\n",
            "1\n",
            "1\n"
          ]
        }
      ]
    },
    {
      "cell_type": "code",
      "source": [
        "import numpy as np\n",
        "list=[[10,20,30,],[40,50,60],[70,80,90]]\n",
        "arr=np.array(list)\n",
        "print(arr)\n",
        "print('Slicing...... .....')\n",
        "res=arr[:,:]\n",
        "print(res)\n"
      ],
      "metadata": {
        "colab": {
          "base_uri": "https://localhost:8080/"
        },
        "id": "iIwAbo-ee_61",
        "outputId": "03a41668-27b3-42f8-e1d4-02c15c25e27e"
      },
      "execution_count": 5,
      "outputs": [
        {
          "output_type": "stream",
          "name": "stdout",
          "text": [
            "[[10 20 30]\n",
            " [40 50 60]\n",
            " [70 80 90]]\n",
            "Slicing...... .....\n",
            "[[10 20 30]\n",
            " [40 50 60]\n",
            " [70 80 90]]\n"
          ]
        }
      ]
    },
    {
      "cell_type": "code",
      "source": [
        "str='abit is an engineering college'\n",
        "print(str[0:27:5])\n",
        "str1=slice(0,27,3)\n",
        "str2=str[str1]\n",
        "print(str2)"
      ],
      "metadata": {
        "colab": {
          "base_uri": "https://localhost:8080/"
        },
        "id": "EDnNDTY_gDo_",
        "outputId": "58b6b63f-944d-4050-9f0e-3a56806b9cad"
      },
      "execution_count": 12,
      "outputs": [
        {
          "output_type": "stream",
          "name": "stdout",
          "text": [
            "ai nnl\n",
            "atsnnnrgo\n"
          ]
        }
      ]
    },
    {
      "cell_type": "code",
      "source": [],
      "metadata": {
        "id": "lAMppN4ElqpO"
      },
      "execution_count": null,
      "outputs": []
    }
  ]
}